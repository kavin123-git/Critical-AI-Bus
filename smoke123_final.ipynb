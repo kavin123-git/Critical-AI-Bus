{
 "cells": [
  {
   "cell_type": "code",
   "execution_count": 1,
   "id": "60a4ae94-b49f-4697-b9e5-96082050a294",
   "metadata": {},
   "outputs": [],
   "source": [
    "from ultralytics import YOLO\n",
    "from huggingface_hub import hf_hub_download\n",
    "from supervision import Detections\n",
    "from PIL import Image\n",
    "import numpy as np\n",
    "import torch\n",
    "import cv2\n",
    "import time"
   ]
  },
  {
   "cell_type": "code",
   "execution_count": null,
   "id": "42fa1ed4-8cea-469e-8d4d-6bddf72b85a1",
   "metadata": {},
   "outputs": [],
   "source": [
    "pip install opencv-python-headless numpy torch"
   ]
  },
  {
   "cell_type": "code",
   "execution_count": null,
   "id": "523ee673-1ac8-4fd5-85cb-0110a806ba3d",
   "metadata": {
    "scrolled": true
   },
   "outputs": [],
   "source": [
    "pip install huggingface_hub"
   ]
  },
  {
   "cell_type": "code",
   "execution_count": 2,
   "id": "047d20c5-7af6-4230-8820-a0623921c696",
   "metadata": {},
   "outputs": [],
   "source": [
    "model_path = hf_hub_download(repo_id=\"arnabdhar/YOLOv8-Face-Detection\", filename=\"model.pt\")"
   ]
  },
  {
   "cell_type": "code",
   "execution_count": 3,
   "id": "7725c903-c816-41e7-9594-59ed873c2ad9",
   "metadata": {},
   "outputs": [],
   "source": [
    "model_face = YOLO(model_path)"
   ]
  },
  {
   "cell_type": "code",
   "execution_count": 4,
   "id": "9615e872-0466-4623-81f2-a1ad1415920e",
   "metadata": {},
   "outputs": [],
   "source": [
    "model_smoke = YOLO(r'D:\\CriticalAI\\weights\\ciggarete\\best.pt')"
   ]
  },
  {
   "cell_type": "code",
   "execution_count": 5,
   "id": "838899a3-f2b1-45e5-b4c7-2a3b8fbe516a",
   "metadata": {},
   "outputs": [],
   "source": [
    "def enhance_image(frame):\n",
    "    # Convert to HSV (Hue, Saturation, Value)\n",
    "    hsv = cv2.cvtColor(frame, cv2.COLOR_BGR2HSV)\n",
    "    \n",
    "    # Increase brightness (V channel)\n",
    "    hsv[:, :, 2] = cv2.equalizeHist(hsv[:, :, 2])\n",
    "    \n",
    "    # Convert back to BGR\n",
    "    enhanced = cv2.cvtColor(hsv, cv2.COLOR_HSV2BGR)\n",
    "    return enhanced"
   ]
  },
  {
   "cell_type": "code",
   "execution_count": null,
   "id": "55dbdff0-59da-49e8-97e8-ae79983d3faf",
   "metadata": {},
   "outputs": [],
   "source": [
    "# Start webcam\n",
    "cap = cv2.VideoCapture(0)\n",
    "\n",
    "frame_count = 0  # Counter to track the frame number\n",
    "frame_skip = 4   # Only process every 4th frame\n",
    "valid_detection_count = 0  # Counter for valid detections\n",
    "smoking_alert = False  # Flag to indicate when a valid smoking detection occurs\n",
    "alert_start_time = 0  # Track when the alert starts\n",
    "alert_display_duration = 5  # Duration for alert to stay on screen (seconds)\n",
    "\n",
    "while cap.isOpened():\n",
    "    ret, frame = cap.read()\n",
    "    if not ret:\n",
    "        break\n",
    "\n",
    "    valid_detection = False  # Reset valid detection flag for this frame\n",
    "\n",
    "    # Only process every 4th frame\n",
    "    if frame_count % frame_skip == 0:\n",
    "        # Run face detection model\n",
    "        face_results = model_face(frame)\n",
    "        cigarette_results = model_smoke(frame)\n",
    "\n",
    "        # Get face bounding boxes\n",
    "        face_bboxes = face_results[0].boxes.xyxy.numpy()\n",
    "\n",
    "        # Get cigarette bounding boxes\n",
    "        cigarette_bboxes = cigarette_results[0].boxes.xyxy.numpy()\n",
    "\n",
    "        # Draw face bounding boxes\n",
    "        for face_bbox in face_bboxes:\n",
    "            face_x1, face_y1, face_x2, face_y2 = face_bbox\n",
    "            cv2.rectangle(frame, (int(face_x1), int(face_y1)), (int(face_x2), int(face_y2)), (0, 255, 0), 2)\n",
    "\n",
    "        # Check if a cigarette is inside a face bounding box\n",
    "        for cig_bbox in cigarette_bboxes:\n",
    "            cig_x1, cig_y1, cig_x2, cig_y2 = cig_bbox\n",
    "            cigarette_in_face = False\n",
    "\n",
    "            for face_bbox in face_bboxes:\n",
    "                face_x1, face_y1, face_x2, face_y2 = face_bbox\n",
    "                if cig_x1 >= (face_x1 - 80) and cig_y1 >= face_y1 and cig_x2 <= (face_x2 + 80) and cig_y2 <= face_y2:\n",
    "                    cigarette_in_face = True\n",
    "                    valid_detection = True  # Valid smoking detection in this frame\n",
    "                    break\n",
    "            \n",
    "            # Draw bounding box (Blue if inside face, Red otherwise)\n",
    "            color = (255, 0, 0) if cigarette_in_face else (0, 0, 255)\n",
    "            cv2.rectangle(frame, (int(cig_x1), int(cig_y1)), (int(cig_x2), int(cig_y2)), color, 2)\n",
    "\n",
    "    # If valid detection occurs, increment count\n",
    "    if valid_detection and not smoking_alert:\n",
    "        valid_detection_count += 1\n",
    "\n",
    "    # Trigger alert after 5 valid detections\n",
    "    if valid_detection_count >= 2 and not smoking_alert:\n",
    "        smoking_alert = True\n",
    "        alert_start_time = time.time()  # Start the alert timer\n",
    "        valid_detection_count = 0  # Reset detection count after alert is triggered\n",
    "\n",
    "    # Display alert if it's active for 10 seconds\n",
    "    if smoking_alert:\n",
    "        elapsed_time = time.time() - alert_start_time\n",
    "        if elapsed_time < alert_display_duration:\n",
    "            cv2.putText(frame, \"Smoking Detected!\", (50, 50), cv2.FONT_HERSHEY_SIMPLEX, 1, (0, 0, 255), 3, cv2.LINE_AA)\n",
    "        else:\n",
    "            smoking_alert = False  # Reset alert after 10 seconds\n",
    "\n",
    "    # Show the frame\n",
    "    cv2.imshow('Face and Cigarette Detection', frame)\n",
    "\n",
    "    # Exit when 'q' is pressed\n",
    "    if cv2.waitKey(1) & 0xFF == ord('q'):\n",
    "        break\n",
    "\n",
    "    frame_count += 1  # Increment frame count\n",
    "\n",
    "# Release resources\n",
    "cap.release()\n",
    "cv2.destroyAllWindows()"
   ]
  },
  {
   "cell_type": "code",
   "execution_count": null,
   "id": "b033373b-21eb-4829-920a-f1601a07e857",
   "metadata": {},
   "outputs": [],
   "source": []
  }
 ],
 "metadata": {
  "kernelspec": {
   "display_name": "Python 3 (ipykernel)",
   "language": "python",
   "name": "python3"
  },
  "language_info": {
   "codemirror_mode": {
    "name": "ipython",
    "version": 3
   },
   "file_extension": ".py",
   "mimetype": "text/x-python",
   "name": "python",
   "nbconvert_exporter": "python",
   "pygments_lexer": "ipython3",
   "version": "3.9.21"
  }
 },
 "nbformat": 4,
 "nbformat_minor": 5
}
